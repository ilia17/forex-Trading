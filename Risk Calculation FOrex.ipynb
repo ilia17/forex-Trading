{
 "cells": [
  {
   "cell_type": "code",
   "execution_count": 3,
   "metadata": {},
   "outputs": [
    {
     "name": "stdout",
     "output_type": "stream",
     "text": [
      "Wellcome Forex 5.3 member!!\n",
      "Enter Your Trading Leverage As Integer (Ex: 50, 100, 200, 500):\n",
      " 50\n",
      "Input Your Deposit Amount As Integer (Ex: 200, 500, 1000):\n",
      " 100\n",
      "Please Choose Your Risk Ratio From 1% - 5% As Integer: ex(1, 2, 3, 4, 5 )\n",
      " 2\n",
      "Leverage: 50\n",
      "\n",
      "    Balance: 100$\n",
      " \n",
      "    Risk Management: 2% \n",
      " \n",
      "    Total Trading Value: 5000$\n",
      " \n",
      "    Max Amount Per Trade: 0.5$\n",
      " \n",
      "    Max Lot Size: 0.05\n",
      "\n",
      "    Max Unit Size: 5000.0\n",
      "\n",
      "    Lot Trade Size Dependant On Your 2% Risk: 0.001\n",
      "\n",
      "    Dollar Trade On 2% Risk Is 0.01$\n"
     ]
    }
   ],
   "source": [
    "pip = 0.0001\n",
    "\n",
    "print(\"Wellcome Forex Traders!\")\n",
    "\n",
    "leverage = input(\"Enter Your Trading Leverage As Integer (Ex: 50, 100, 200, 500):\\n \")\n",
    "investment = input(\"Input Your Deposit Amount As Integer (Ex: 200, 500, 1000):\\n \")\n",
    "risk= input(\"Please Choose Your Risk Ratio From 1% - 5% As Integer: ex(1, 2, 3, 4, 5 )\\n \")\n",
    "value = int(leverage) * int(investment)\n",
    "dollar_amount_per_trade= value * pip\n",
    "lot = dollar_amount_per_trade / 10\n",
    "unit = lot * 100000\n",
    "risk_amount = lot * (int(risk)/100)\n",
    "trade_values= risk_amount*10\n",
    "\n",
    "print(f\"\"\"Leverage: {leverage}\\n\n",
    "    Balance: {investment}$\\n \n",
    "    Risk Management: {risk}% \\n \n",
    "    Total Trading Value: {value}$\\n \n",
    "    Max Amount Per Trade: {dollar_amount_per_trade}$\\n \n",
    "    Max Lot Size: {lot}\\n\n",
    "    Max Unit Size: {unit}\\n\n",
    "    Lot Trade Size Dependant On Your {risk}% Risk: {risk_amount}\\n\n",
    "    Dollar Trade On {risk}% Risk Is {trade_values}$\"\"\")"
   ]
  },
  {
   "cell_type": "code",
   "execution_count": null,
   "metadata": {},
   "outputs": [],
   "source": []
  }
 ],
 "metadata": {
  "kernelspec": {
   "display_name": "Python 3",
   "language": "python",
   "name": "python3"
  },
  "language_info": {
   "codemirror_mode": {
    "name": "ipython",
    "version": 3
   },
   "file_extension": ".py",
   "mimetype": "text/x-python",
   "name": "python",
   "nbconvert_exporter": "python",
   "pygments_lexer": "ipython3",
   "version": "3.7.4"
  }
 },
 "nbformat": 4,
 "nbformat_minor": 2
}
